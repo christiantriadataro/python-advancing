{
 "cells": [
  {
   "source": "![img](img.jpg)\n",
   "metadata": {},
   "id": "39724b01-e27d-4b9f-b506-8767841e78a7",
   "cell_type": "markdown"
  },
  {
   "source": "You are a junior developer working in a small start-up. Your managers have asked you to develop a new account registration system for a mobile app. The system must validate user input on the sign-up form before creating an account. \n\nThe previous junior developer wrote some helper functions that validate the name, email, and password. Use these functions to register users, store their data, and implement some error handling! These have been imported into the workspace for you. They will be a great help to you when registering the user, but first you have to understand what the function does! Inspect the docstrings of each of the helper functions: `validate_name`, `validate_email` and `validate_password`.",
   "metadata": {},
   "id": "2d915951-4dbd-49ac-bc0d-8ae3df53f586",
   "cell_type": "markdown"
  },
  {
   "source": [
    "# Re-run this cell and examine the docstring of each function\n",
    "from python_functions import validate_name, validate_email, validate_password, top_level_domains\n",
    "\n",
    "print(\"validate_name\\n\")\n",
    "print(validate_name.__doc__)\n",
    "print(\"--------------------\\n\")\n",
    "\n",
    "print(\"validate_email\\n\")\n",
    "print(validate_email.__doc__)\n",
    "print(\"--------------------\\n\")\n",
    "\n",
    "print(\"validate_password\\n\")\n",
    "print(validate_password.__doc__)\n",
    "\n",
    "# The top level domains variable is used in validate_email to approve only certain email domains\n",
    "print(top_level_domains)"
   ],
   "metadata": {
    "executionCancelledAt": null,
    "executionTime": 160,
    "lastExecutedAt": 1709311428512,
    "lastScheduledRunId": null,
    "lastSuccessfullyExecutedCode": "# Re-run this cell and examine the docstring of each function\nfrom python_functions import validate_name, validate_email, validate_password, top_level_domains\n\nprint(\"validate_name\\n\")\nprint(validate_name.__doc__)\nprint(\"--------------------\\n\")\n\nprint(\"validate_email\\n\")\nprint(validate_email.__doc__) \nprint(\"--------------------\\n\")\n\nprint(\"validate_password\\n\")\nprint(validate_password.__doc__)\n\n# The top level domains variable is used in validate_email to approve only certain email domains\nprint(top_level_domains)",
    "outputsMetadata": {
     "0": {
      "height": 616,
      "type": "stream"
     }
    },
    "ExecuteTime": {
     "end_time": "2025-01-25T02:19:14.874245Z",
     "start_time": "2025-01-25T02:19:14.860154Z"
    }
   },
   "id": "89e2bca9-7ff6-4259-b33a-a85607997083",
   "cell_type": "code",
   "outputs": [
    {
     "name": "stdout",
     "output_type": "stream",
     "text": [
      "validate_name\n",
      "\n",
      " Checks that the name is greater than two characters and is a string data type.\n",
      "\n",
      " Args:\n",
      "    name (str): The inputted name from the user.\n",
      "\n",
      " Returns:\n",
      "    bool: True if the name passes the check, False otherwise.\n",
      "    \n",
      "--------------------\n",
      "\n",
      "validate_email\n",
      "\n",
      " Checks that the email address is in a valid format, has a username greater than 1 character, an '@' symbol, and an allowed domain that is in the `top_level_domains` variable.\n",
      "\n",
      "  Args:\n",
      "    email (str): The inputted email from the user.\n",
      "\n",
      "  Returns:\n",
      "    bool: True if the email passes the checks, False otherwise.\n",
      "    \n",
      "--------------------\n",
      "\n",
      "validate_password\n",
      "\n",
      " Checks that the password is strong enough. It should include a capital letter, a number between 0-9 and be greater than 8 characters.\n",
      "\n",
      "  Args:\n",
      "    password (str): The inputted password from the user.\n",
      "\n",
      "  Returns:\n",
      "    bool: True if the password passes the checks, False otherwise.\n",
      "    \n",
      "['.org', '.net', '.edu', '.ac', '.uk', '.com']\n"
     ]
    }
   ],
   "execution_count": 1
  },
  {
   "source": [
    "# Start coding here\n",
    "# Use as many cells as you need\n",
    "def validate_user(name, email, password):\n",
    "    if not validate_email(email):\n",
    "        raise ValueError(\"Invalid email\")\n",
    "    if not validate_password(password):\n",
    "        raise ValueError(\"Invalid password\")\n",
    "    if not validate_name(name):\n",
    "        raise ValueError(\"Invalid name\")\n",
    "    return True\n",
    "\n",
    "\n",
    "def register_user(name, email, password):\n",
    "    try:\n",
    "        validate_user(name, email, password)\n",
    "        return {\n",
    "            name: name,\n",
    "            email: email,\n",
    "            password: password\n",
    "        }\n",
    "    except ValueError:\n",
    "        return False\n"
   ],
   "metadata": {
    "executionCancelledAt": null,
    "executionTime": 48,
    "lastExecutedAt": 1709311428560,
    "lastScheduledRunId": null,
    "lastSuccessfullyExecutedCode": "# Start coding here\n# Use as many cells as you need",
    "ExecuteTime": {
     "end_time": "2025-01-25T02:33:30.662456Z",
     "start_time": "2025-01-25T02:33:30.655473Z"
    }
   },
   "id": "05f8c17e-84b8-420c-84f1-af7015efbc8e",
   "cell_type": "code",
   "outputs": [],
   "execution_count": 5
  },
  {
   "metadata": {},
   "cell_type": "code",
   "outputs": [],
   "execution_count": null,
   "source": "",
   "id": "3289db5f63ea8a73"
  }
 ],
 "metadata": {
  "language_info": {
   "name": "python",
   "version": "3.8.10",
   "mimetype": "text/x-python",
   "codemirror_mode": {
    "name": "ipython",
    "version": 3
   },
   "pygments_lexer": "ipython3",
   "nbconvert_exporter": "python",
   "file_extension": ".py"
  },
  "kernelspec": {
   "display_name": "Python 3 (ipykernel)",
   "language": "python",
   "name": "python3"
  },
  "editor": "DataCamp Workspace"
 },
 "nbformat": 4,
 "nbformat_minor": 5
}
