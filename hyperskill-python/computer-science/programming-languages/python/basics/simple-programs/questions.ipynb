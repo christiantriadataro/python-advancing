{
 "cells": [
  {
   "metadata": {},
   "cell_type": "markdown",
   "source": "##### Print several lines\n",
   "id": "93179d1a0cdf3239"
  },
  {
   "metadata": {
    "ExecuteTime": {
     "end_time": "2025-01-23T06:38:08.203647Z",
     "start_time": "2025-01-23T06:38:08.197278Z"
    }
   },
   "cell_type": "code",
   "source": [
    "# Try printing the following text using Python:\n",
    "print(\"There is a cat on the keyboard, it is true,\")\n",
    "print(\"Typing messages out of the blue.\")"
   ],
   "id": "e3e7dd2a2768ea6e",
   "outputs": [
    {
     "name": "stdout",
     "output_type": "stream",
     "text": [
      "There is a cat on the keyboard, it is true,\n",
      "Typing messages out of the blue.\n"
     ]
    }
   ],
   "execution_count": 1
  },
  {
   "metadata": {},
   "cell_type": "markdown",
   "source": "##### Print an inspirational quote",
   "id": "321a88ec06fe83f6"
  },
  {
   "metadata": {
    "ExecuteTime": {
     "end_time": "2025-01-23T06:42:40.521843Z",
     "start_time": "2025-01-23T06:42:40.516379Z"
    }
   },
   "cell_type": "code",
   "source": [
    "print(\"\"\"\n",
    "The only limit to our realization of tomorrow\n",
    "is our doubts of today.\n",
    "Franklin D. Roosevelt\n",
    "\"\"\")"
   ],
   "id": "f232a5d70d94ebcb",
   "outputs": [
    {
     "name": "stdout",
     "output_type": "stream",
     "text": [
      "\n",
      "The only limit to our realization of tomorrow\n",
      "is our doubts of today.\n",
      "Franklin D. Roosevelt\n",
      "\n"
     ]
    }
   ],
   "execution_count": 2
  },
  {
   "metadata": {},
   "cell_type": "markdown",
   "source": "##### Print contact card",
   "id": "6bc2acde2930005e"
  },
  {
   "metadata": {
    "ExecuteTime": {
     "end_time": "2025-01-23T06:44:12.125788Z",
     "start_time": "2025-01-23T06:44:12.118095Z"
    }
   },
   "cell_type": "code",
   "source": [
    "CONTACT_CARD = \"\"\"\n",
    "Contact Information:\n",
    "Name: John Doe\n",
    "Email: john.doe@example.com\n",
    "Phone: 123-456-7890\n",
    "\"\"\"\n",
    "print(CONTACT_CARD)"
   ],
   "id": "114eb844edcc5a0b",
   "outputs": [
    {
     "name": "stdout",
     "output_type": "stream",
     "text": [
      "\n",
      "Contact Information:\n",
      "Name: John Doe\n",
      "Email: john.doe@example.com\n",
      "Phone: 123-456-7890\n",
      "\n"
     ]
    }
   ],
   "execution_count": 3
  },
  {
   "metadata": {},
   "cell_type": "code",
   "outputs": [],
   "execution_count": null,
   "source": "",
   "id": "1805ad8e108e80dd"
  }
 ],
 "metadata": {
  "kernelspec": {
   "name": "python3",
   "language": "python",
   "display_name": "Python 3 (ipykernel)"
  }
 },
 "nbformat": 5,
 "nbformat_minor": 9
}
