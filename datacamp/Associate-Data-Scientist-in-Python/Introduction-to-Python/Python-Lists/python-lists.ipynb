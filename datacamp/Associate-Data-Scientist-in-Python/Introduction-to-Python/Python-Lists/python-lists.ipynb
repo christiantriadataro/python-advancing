{
 "cells": [
  {
   "metadata": {},
   "cell_type": "markdown",
   "source": [
    "#### Python Lists\n",
    "- float - real number\n",
    "- int - integer number\n",
    "- str - string, text\n",
    "- bool - True, False"
   ],
   "id": "25faa4dcf066f9dd"
  },
  {
   "metadata": {
    "ExecuteTime": {
     "end_time": "2025-01-26T10:57:24.104202Z",
     "start_time": "2025-01-26T10:57:23.471296Z"
    }
   },
   "cell_type": "code",
   "source": [
    "fam = [1.73, 1.68, 1.71, 1.89]\n",
    "fam"
   ],
   "id": "13b616b508f8c9e2",
   "outputs": [
    {
     "data": {
      "text/plain": [
       "[1.73, 1.68, 1.71, 1.89]"
      ]
     },
     "execution_count": 1,
     "metadata": {},
     "output_type": "execute_result"
    }
   ],
   "execution_count": 1
  },
  {
   "metadata": {},
   "cell_type": "code",
   "outputs": [],
   "execution_count": null,
   "source": "fam = [\"liz\", 1.73]",
   "id": "f8b82ac28b5c376"
  },
  {
   "metadata": {
    "ExecuteTime": {
     "end_time": "2025-01-26T11:26:15.986275Z",
     "start_time": "2025-01-26T11:26:15.958396Z"
    }
   },
   "cell_type": "code",
   "source": [
    "height = [1.73, 1.68, 1.171, 1.89, 1.79]\n",
    "height"
   ],
   "id": "b2288b66bed9ad95",
   "outputs": [
    {
     "data": {
      "text/plain": [
       "[1.73, 1.68, 1.171, 1.89, 1.79]"
      ]
     },
     "execution_count": 2,
     "metadata": {},
     "output_type": "execute_result"
    }
   ],
   "execution_count": 2
  },
  {
   "metadata": {
    "ExecuteTime": {
     "end_time": "2025-01-26T11:26:32.504837Z",
     "start_time": "2025-01-26T11:26:32.493138Z"
    }
   },
   "cell_type": "code",
   "source": [
    "weight = [65.4, 59.2, 63.6, 88.4, 68.7]\n",
    "weight"
   ],
   "id": "2a5bb008b9cb778d",
   "outputs": [
    {
     "data": {
      "text/plain": [
       "[65.4, 59.2, 63.6, 88.4, 68.7]"
      ]
     },
     "execution_count": 3,
     "metadata": {},
     "output_type": "execute_result"
    }
   ],
   "execution_count": 3
  },
  {
   "metadata": {
    "ExecuteTime": {
     "end_time": "2025-01-26T11:26:38.237852Z",
     "start_time": "2025-01-26T11:26:37.957759Z"
    }
   },
   "cell_type": "code",
   "source": "weight / height ** 2",
   "id": "df9f0f595ea62bef",
   "outputs": [
    {
     "ename": "TypeError",
     "evalue": "unsupported operand type(s) for ** or pow(): 'list' and 'int'",
     "output_type": "error",
     "traceback": [
      "\u001B[1;31m---------------------------------------------------------------------------\u001B[0m",
      "\u001B[1;31mTypeError\u001B[0m                                 Traceback (most recent call last)",
      "Cell \u001B[1;32mIn[4], line 1\u001B[0m\n\u001B[1;32m----> 1\u001B[0m weight \u001B[38;5;241m/\u001B[39m \u001B[43mheight\u001B[49m\u001B[43m \u001B[49m\u001B[38;5;241;43m*\u001B[39;49m\u001B[38;5;241;43m*\u001B[39;49m\u001B[43m \u001B[49m\u001B[38;5;241;43m2\u001B[39;49m\n",
      "\u001B[1;31mTypeError\u001B[0m: unsupported operand type(s) for ** or pow(): 'list' and 'int'"
     ]
    }
   ],
   "execution_count": 4
  },
  {
   "metadata": {},
   "cell_type": "markdown",
   "source": "##### Solution: NumPy",
   "id": "522e9055e18bf72f"
  },
  {
   "metadata": {
    "ExecuteTime": {
     "end_time": "2025-01-26T11:28:54.273152Z",
     "start_time": "2025-01-26T11:28:54.261180Z"
    }
   },
   "cell_type": "code",
   "source": [
    "import numpy as np\n",
    "\n",
    "np_height = np.array(height)\n",
    "np_height"
   ],
   "id": "88a6de46b9341ed5",
   "outputs": [
    {
     "data": {
      "text/plain": [
       "array([1.73 , 1.68 , 1.171, 1.89 , 1.79 ])"
      ]
     },
     "execution_count": 9,
     "metadata": {},
     "output_type": "execute_result"
    }
   ],
   "execution_count": 9
  },
  {
   "metadata": {
    "ExecuteTime": {
     "end_time": "2025-01-26T11:28:59.136410Z",
     "start_time": "2025-01-26T11:28:59.109756Z"
    }
   },
   "cell_type": "code",
   "source": [
    "np_weight = np.array(weight)\n",
    "np_weight"
   ],
   "id": "39559a28f8a380c",
   "outputs": [
    {
     "data": {
      "text/plain": [
       "array([65.4, 59.2, 63.6, 88.4, 68.7])"
      ]
     },
     "execution_count": 10,
     "metadata": {},
     "output_type": "execute_result"
    }
   ],
   "execution_count": 10
  },
  {
   "metadata": {
    "ExecuteTime": {
     "end_time": "2025-01-26T11:29:25.016933Z",
     "start_time": "2025-01-26T11:29:25.006895Z"
    }
   },
   "cell_type": "code",
   "source": [
    "bmi = np_weight / np_height ** 2\n",
    "bmi"
   ],
   "id": "38fcc6ef55b861c8",
   "outputs": [
    {
     "data": {
      "text/plain": [
       "array([21.85171573, 20.97505669, 46.38134362, 24.7473475 , 21.44127836])"
      ]
     },
     "execution_count": 12,
     "metadata": {},
     "output_type": "execute_result"
    }
   ],
   "execution_count": 12
  },
  {
   "metadata": {
    "ExecuteTime": {
     "end_time": "2025-01-26T11:31:02.604933Z",
     "start_time": "2025-01-26T11:31:02.597203Z"
    }
   },
   "cell_type": "code",
   "source": "np.array([1.0, \"is\", True])",
   "id": "57ae83272f6eb821",
   "outputs": [
    {
     "data": {
      "text/plain": [
       "array(['1.0', 'is', 'True'], dtype='<U32')"
      ]
     },
     "execution_count": 13,
     "metadata": {},
     "output_type": "execute_result"
    }
   ],
   "execution_count": 13
  },
  {
   "metadata": {
    "ExecuteTime": {
     "end_time": "2025-01-26T11:31:42.483199Z",
     "start_time": "2025-01-26T11:31:42.479801Z"
    }
   },
   "cell_type": "code",
   "source": [
    "python_list = [1, 2, 3]\n",
    "numpy_array = np.array(python_list)"
   ],
   "id": "f5864cb12e18216f",
   "outputs": [],
   "execution_count": 15
  },
  {
   "metadata": {
    "ExecuteTime": {
     "end_time": "2025-01-26T11:31:50.307833Z",
     "start_time": "2025-01-26T11:31:50.301684Z"
    }
   },
   "cell_type": "code",
   "source": "python_list + python_list",
   "id": "78119f1e450a34e3",
   "outputs": [
    {
     "data": {
      "text/plain": [
       "[1, 2, 3, 1, 2, 3]"
      ]
     },
     "execution_count": 16,
     "metadata": {},
     "output_type": "execute_result"
    }
   ],
   "execution_count": 16
  },
  {
   "metadata": {
    "ExecuteTime": {
     "end_time": "2025-01-26T11:31:54.382236Z",
     "start_time": "2025-01-26T11:31:54.371840Z"
    }
   },
   "cell_type": "code",
   "source": "numpy_array + numpy_array",
   "id": "c36768d0458fc3aa",
   "outputs": [
    {
     "data": {
      "text/plain": [
       "array([2, 4, 6])"
      ]
     },
     "execution_count": 17,
     "metadata": {},
     "output_type": "execute_result"
    }
   ],
   "execution_count": 17
  },
  {
   "metadata": {
    "ExecuteTime": {
     "end_time": "2025-01-26T11:32:18.712585Z",
     "start_time": "2025-01-26T11:32:18.695045Z"
    }
   },
   "cell_type": "code",
   "source": "bmi",
   "id": "1067b199271c8b89",
   "outputs": [
    {
     "data": {
      "text/plain": [
       "array([21.85171573, 20.97505669, 46.38134362, 24.7473475 , 21.44127836])"
      ]
     },
     "execution_count": 18,
     "metadata": {},
     "output_type": "execute_result"
    }
   ],
   "execution_count": 18
  },
  {
   "metadata": {
    "ExecuteTime": {
     "end_time": "2025-01-26T11:32:31.082741Z",
     "start_time": "2025-01-26T11:32:31.074150Z"
    }
   },
   "cell_type": "code",
   "source": "bmi[1]",
   "id": "372c86687c9062f9",
   "outputs": [
    {
     "data": {
      "text/plain": [
       "np.float64(20.97505668934241)"
      ]
     },
     "execution_count": 19,
     "metadata": {},
     "output_type": "execute_result"
    }
   ],
   "execution_count": 19
  },
  {
   "metadata": {
    "ExecuteTime": {
     "end_time": "2025-01-26T11:32:43.585538Z",
     "start_time": "2025-01-26T11:32:43.568829Z"
    }
   },
   "cell_type": "code",
   "source": "bmi[bmi > 23]",
   "id": "4bbb5ff816a6e8fd",
   "outputs": [
    {
     "data": {
      "text/plain": [
       "array([46.38134362, 24.7473475 ])"
      ]
     },
     "execution_count": 20,
     "metadata": {},
     "output_type": "execute_result"
    }
   ],
   "execution_count": 20
  },
  {
   "metadata": {
    "ExecuteTime": {
     "end_time": "2025-01-26T11:42:17.478855Z",
     "start_time": "2025-01-26T11:42:17.452156Z"
    }
   },
   "cell_type": "code",
   "source": [
    "np_2d = np.array([height, weight])\n",
    "np_2d"
   ],
   "id": "d85dc5b8433a6796",
   "outputs": [
    {
     "data": {
      "text/plain": [
       "array([[ 1.73 ,  1.68 ,  1.171,  1.89 ,  1.79 ],\n",
       "       [65.4  , 59.2  , 63.6  , 88.4  , 68.7  ]])"
      ]
     },
     "execution_count": 26,
     "metadata": {},
     "output_type": "execute_result"
    }
   ],
   "execution_count": 26
  },
  {
   "metadata": {
    "ExecuteTime": {
     "end_time": "2025-01-26T11:42:49.067409Z",
     "start_time": "2025-01-26T11:42:49.057341Z"
    }
   },
   "cell_type": "code",
   "source": "np_2d.shape",
   "id": "6971786c973c4713",
   "outputs": [
    {
     "data": {
      "text/plain": [
       "(2, 5)"
      ]
     },
     "execution_count": 27,
     "metadata": {},
     "output_type": "execute_result"
    }
   ],
   "execution_count": 27
  },
  {
   "metadata": {
    "ExecuteTime": {
     "end_time": "2025-01-26T11:43:42.322769Z",
     "start_time": "2025-01-26T11:43:42.317062Z"
    }
   },
   "cell_type": "code",
   "source": "np_2d[0][2]",
   "id": "192f01ad39303357",
   "outputs": [
    {
     "data": {
      "text/plain": [
       "np.float64(1.171)"
      ]
     },
     "execution_count": 28,
     "metadata": {},
     "output_type": "execute_result"
    }
   ],
   "execution_count": 28
  },
  {
   "metadata": {
    "ExecuteTime": {
     "end_time": "2025-01-26T11:44:09.498779Z",
     "start_time": "2025-01-26T11:44:09.491376Z"
    }
   },
   "cell_type": "code",
   "source": "np_2d[0, 2]",
   "id": "893407d1f7cbdd8c",
   "outputs": [
    {
     "data": {
      "text/plain": [
       "np.float64(1.171)"
      ]
     },
     "execution_count": 29,
     "metadata": {},
     "output_type": "execute_result"
    }
   ],
   "execution_count": 29
  },
  {
   "metadata": {
    "ExecuteTime": {
     "end_time": "2025-01-26T11:44:34.291540Z",
     "start_time": "2025-01-26T11:44:34.285395Z"
    }
   },
   "cell_type": "code",
   "source": "np_2d[:, 1:3]",
   "id": "cc5a6f2e7c77e179",
   "outputs": [
    {
     "data": {
      "text/plain": [
       "array([[ 1.68 ,  1.171],\n",
       "       [59.2  , 63.6  ]])"
      ]
     },
     "execution_count": 30,
     "metadata": {},
     "output_type": "execute_result"
    }
   ],
   "execution_count": 30
  },
  {
   "metadata": {
    "ExecuteTime": {
     "end_time": "2025-01-26T11:45:08.954749Z",
     "start_time": "2025-01-26T11:45:08.948715Z"
    }
   },
   "cell_type": "code",
   "source": "np_2d[1, :]",
   "id": "a9b4ffd6015097f5",
   "outputs": [
    {
     "data": {
      "text/plain": [
       "array([65.4, 59.2, 63.6, 88.4, 68.7])"
      ]
     },
     "execution_count": 31,
     "metadata": {},
     "output_type": "execute_result"
    }
   ],
   "execution_count": 31
  },
  {
   "metadata": {
    "ExecuteTime": {
     "end_time": "2025-01-26T11:45:18.327496Z",
     "start_time": "2025-01-26T11:45:18.321598Z"
    }
   },
   "cell_type": "code",
   "source": "np_2d[:, 1]",
   "id": "c474a6abc312ee23",
   "outputs": [
    {
     "data": {
      "text/plain": [
       "array([ 1.68, 59.2 ])"
      ]
     },
     "execution_count": 32,
     "metadata": {},
     "output_type": "execute_result"
    }
   ],
   "execution_count": 32
  },
  {
   "metadata": {
    "ExecuteTime": {
     "end_time": "2025-01-26T11:54:57.680859Z",
     "start_time": "2025-01-26T11:54:57.674258Z"
    }
   },
   "cell_type": "code",
   "source": "np.mean(np_height)",
   "id": "1f1b159d5d5516fa",
   "outputs": [
    {
     "data": {
      "text/plain": [
       "np.float64(1.6522)"
      ]
     },
     "execution_count": 35,
     "metadata": {},
     "output_type": "execute_result"
    }
   ],
   "execution_count": 35
  },
  {
   "metadata": {
    "ExecuteTime": {
     "end_time": "2025-01-26T11:55:06.342630Z",
     "start_time": "2025-01-26T11:55:06.312028Z"
    }
   },
   "cell_type": "code",
   "source": "np.median(np_height)",
   "id": "17a0fe220038d020",
   "outputs": [
    {
     "data": {
      "text/plain": [
       "np.float64(1.73)"
      ]
     },
     "execution_count": 36,
     "metadata": {},
     "output_type": "execute_result"
    }
   ],
   "execution_count": 36
  },
  {
   "metadata": {
    "ExecuteTime": {
     "end_time": "2025-01-26T11:55:32.279766Z",
     "start_time": "2025-01-26T11:55:32.272525Z"
    }
   },
   "cell_type": "code",
   "source": "np.std(np_height)",
   "id": "77406b521307fcf2",
   "outputs": [
    {
     "data": {
      "text/plain": [
       "np.float64(0.25056607910888495)"
      ]
     },
     "execution_count": 37,
     "metadata": {},
     "output_type": "execute_result"
    }
   ],
   "execution_count": 37
  },
  {
   "metadata": {
    "ExecuteTime": {
     "end_time": "2025-01-26T11:56:46.904902Z",
     "start_time": "2025-01-26T11:56:46.874817Z"
    }
   },
   "cell_type": "code",
   "source": [
    "height = np.round(np.random.normal(1.75, 0.20, 5000), 2)\n",
    "weight = np.round(np.random.normal(60.32, 15, 5000), 2)"
   ],
   "id": "e850be72d7e016f8",
   "outputs": [],
   "execution_count": 38
  },
  {
   "metadata": {
    "ExecuteTime": {
     "end_time": "2025-01-26T11:57:18.143392Z",
     "start_time": "2025-01-26T11:57:18.136952Z"
    }
   },
   "cell_type": "code",
   "source": "np_bmi = np.array([height, weight])",
   "id": "4736aa01ebfb52fe",
   "outputs": [],
   "execution_count": 39
  },
  {
   "metadata": {
    "ExecuteTime": {
     "end_time": "2025-01-26T11:57:36.489855Z",
     "start_time": "2025-01-26T11:57:36.484592Z"
    }
   },
   "cell_type": "code",
   "source": "np.mean(np_bmi[:, 0])",
   "id": "6bbb276ff87a1a42",
   "outputs": [
    {
     "data": {
      "text/plain": [
       "np.float64(38.33)"
      ]
     },
     "execution_count": 40,
     "metadata": {},
     "output_type": "execute_result"
    }
   ],
   "execution_count": 40
  },
  {
   "metadata": {
    "ExecuteTime": {
     "end_time": "2025-01-26T11:57:48.688017Z",
     "start_time": "2025-01-26T11:57:48.681419Z"
    }
   },
   "cell_type": "code",
   "source": "np.mean(np_bmi[:, 1])",
   "id": "e6804f57e9fbc62e",
   "outputs": [
    {
     "data": {
      "text/plain": [
       "np.float64(56.985)"
      ]
     },
     "execution_count": 41,
     "metadata": {},
     "output_type": "execute_result"
    }
   ],
   "execution_count": 41
  },
  {
   "metadata": {
    "ExecuteTime": {
     "end_time": "2025-01-26T11:58:05.478996Z",
     "start_time": "2025-01-26T11:58:05.473381Z"
    }
   },
   "cell_type": "code",
   "source": "np.median(np_bmi[:, 0])",
   "id": "2885d7df08ee30a5",
   "outputs": [
    {
     "data": {
      "text/plain": [
       "np.float64(38.33)"
      ]
     },
     "execution_count": 42,
     "metadata": {},
     "output_type": "execute_result"
    }
   ],
   "execution_count": 42
  },
  {
   "metadata": {
    "ExecuteTime": {
     "end_time": "2025-01-26T11:58:10.177171Z",
     "start_time": "2025-01-26T11:58:10.171934Z"
    }
   },
   "cell_type": "code",
   "source": "np.median(np_bmi[:, 1])",
   "id": "c858de0b033e28c1",
   "outputs": [
    {
     "data": {
      "text/plain": [
       "np.float64(56.985)"
      ]
     },
     "execution_count": 43,
     "metadata": {},
     "output_type": "execute_result"
    }
   ],
   "execution_count": 43
  },
  {
   "metadata": {
    "ExecuteTime": {
     "end_time": "2025-01-26T11:58:21.350966Z",
     "start_time": "2025-01-26T11:58:21.345315Z"
    }
   },
   "cell_type": "code",
   "source": "np.std(np_bmi[:, 0])",
   "id": "3447af103f4a0209",
   "outputs": [
    {
     "data": {
      "text/plain": [
       "np.float64(36.47)"
      ]
     },
     "execution_count": 44,
     "metadata": {},
     "output_type": "execute_result"
    }
   ],
   "execution_count": 44
  },
  {
   "metadata": {
    "ExecuteTime": {
     "end_time": "2025-01-26T11:58:25.648110Z",
     "start_time": "2025-01-26T11:58:25.643228Z"
    }
   },
   "cell_type": "code",
   "source": "np.std(np_bmi[:, 1])",
   "id": "288ef59441ca9857",
   "outputs": [
    {
     "data": {
      "text/plain": [
       "np.float64(55.235)"
      ]
     },
     "execution_count": 45,
     "metadata": {},
     "output_type": "execute_result"
    }
   ],
   "execution_count": 45
  },
  {
   "metadata": {
    "ExecuteTime": {
     "end_time": "2025-01-26T11:58:32.451515Z",
     "start_time": "2025-01-26T11:58:32.444622Z"
    }
   },
   "cell_type": "code",
   "source": "np.corrcoef(np_bmi[:, 0], np_bmi[:, 1])",
   "id": "d3475511eaecd250",
   "outputs": [
    {
     "data": {
      "text/plain": [
       "array([[1., 1.],\n",
       "       [1., 1.]])"
      ]
     },
     "execution_count": 46,
     "metadata": {},
     "output_type": "execute_result"
    }
   ],
   "execution_count": 46
  },
  {
   "metadata": {
    "ExecuteTime": {
     "end_time": "2025-01-26T11:59:43.119290Z",
     "start_time": "2025-01-26T11:59:43.102122Z"
    }
   },
   "cell_type": "code",
   "source": [
    "np_city = np.column_stack((height, weight))\n",
    "np_city"
   ],
   "id": "e4def5c7180c5f6f",
   "outputs": [
    {
     "data": {
      "text/plain": [
       "array([[  1.86,  74.8 ],\n",
       "       [  1.75, 112.22],\n",
       "       [  1.81,  22.27],\n",
       "       ...,\n",
       "       [  2.07,  79.04],\n",
       "       [  1.72,  68.48],\n",
       "       [  1.82,  52.25]], shape=(5000, 2))"
      ]
     },
     "execution_count": 48,
     "metadata": {},
     "output_type": "execute_result"
    }
   ],
   "execution_count": 48
  },
  {
   "metadata": {},
   "cell_type": "code",
   "outputs": [],
   "execution_count": null,
   "source": "",
   "id": "6dda3a802abd8c61"
  }
 ],
 "metadata": {
  "kernelspec": {
   "name": "python3",
   "language": "python",
   "display_name": "Python 3 (ipykernel)"
  }
 },
 "nbformat": 5,
 "nbformat_minor": 9
}
