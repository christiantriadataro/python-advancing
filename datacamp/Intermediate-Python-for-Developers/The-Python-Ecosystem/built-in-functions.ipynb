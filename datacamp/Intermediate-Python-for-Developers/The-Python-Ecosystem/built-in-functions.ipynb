{
 "cells": [
  {
   "metadata": {},
   "cell_type": "markdown",
   "source": "##### Functions we know",
   "id": "4f576a7eb0b475f0"
  },
  {
   "metadata": {
    "ExecuteTime": {
     "end_time": "2025-01-23T06:57:49.023445Z",
     "start_time": "2025-01-23T06:57:49.017538Z"
    }
   },
   "cell_type": "code",
   "source": [
    "# Printing\n",
    "print(\"Display this as an output\")"
   ],
   "id": "d5e0d488c167686d",
   "outputs": [
    {
     "name": "stdout",
     "output_type": "stream",
     "text": [
      "Display this as an output\n"
     ]
    }
   ],
   "execution_count": 1
  },
  {
   "metadata": {
    "ExecuteTime": {
     "end_time": "2025-01-23T06:57:58.854977Z",
     "start_time": "2025-01-23T06:57:58.847314Z"
    }
   },
   "cell_type": "code",
   "source": [
    "# Checking data types\n",
    "type(print)"
   ],
   "id": "432a63e3e39eb9df",
   "outputs": [
    {
     "data": {
      "text/plain": [
       "builtin_function_or_method"
      ]
     },
     "execution_count": 2,
     "metadata": {},
     "output_type": "execute_result"
    }
   ],
   "execution_count": 2
  },
  {
   "metadata": {
    "ExecuteTime": {
     "end_time": "2025-01-23T06:58:16.199815Z",
     "start_time": "2025-01-23T06:58:16.192699Z"
    }
   },
   "cell_type": "code",
   "source": [
    "# Looping though a range of numbers\n",
    "for num in range(1, 5):\n",
    "    print(num)"
   ],
   "id": "16662affff849eed",
   "outputs": [
    {
     "name": "stdout",
     "output_type": "stream",
     "text": [
      "1\n",
      "2\n",
      "3\n",
      "4\n"
     ]
    }
   ],
   "execution_count": 3
  },
  {
   "metadata": {},
   "cell_type": "markdown",
   "source": "##### max() and min()",
   "id": "90f4de76742b1258"
  },
  {
   "metadata": {
    "ExecuteTime": {
     "end_time": "2025-01-23T07:05:56.063351Z",
     "start_time": "2025-01-23T07:05:56.054455Z"
    }
   },
   "cell_type": "code",
   "source": [
    "sales = [125.97, 84.32, 99.78, 154.21, 78.50, 83.67, 111.13]\n",
    "\n",
    "# Find the largest sale\n",
    "max(sales)"
   ],
   "id": "50d2adc507309fba",
   "outputs": [
    {
     "data": {
      "text/plain": [
       "154.21"
      ]
     },
     "execution_count": 12,
     "metadata": {},
     "output_type": "execute_result"
    }
   ],
   "execution_count": 12
  },
  {
   "metadata": {
    "ExecuteTime": {
     "end_time": "2025-01-23T07:05:57.218568Z",
     "start_time": "2025-01-23T07:05:57.212867Z"
    }
   },
   "cell_type": "code",
   "source": "min(sales)",
   "id": "7ed290e70a17f918",
   "outputs": [
    {
     "data": {
      "text/plain": [
       "78.5"
      ]
     },
     "execution_count": 13,
     "metadata": {},
     "output_type": "execute_result"
    }
   ],
   "execution_count": 13
  },
  {
   "metadata": {},
   "cell_type": "markdown",
   "source": "##### sum() and round()",
   "id": "211988ef14051341"
  },
  {
   "metadata": {
    "ExecuteTime": {
     "end_time": "2025-01-23T07:06:31.753959Z",
     "start_time": "2025-01-23T07:06:31.746128Z"
    }
   },
   "cell_type": "code",
   "source": "sum(sales)",
   "id": "5963f7ec15674c10",
   "outputs": [
    {
     "data": {
      "text/plain": [
       "737.58"
      ]
     },
     "execution_count": 19,
     "metadata": {},
     "output_type": "execute_result"
    }
   ],
   "execution_count": 19
  },
  {
   "metadata": {
    "ExecuteTime": {
     "end_time": "2025-01-23T07:06:07.865887Z",
     "start_time": "2025-01-23T07:06:07.857140Z"
    }
   },
   "cell_type": "code",
   "source": [
    "\n",
    "# Store total sales\n",
    "total_sales = sum(sales)\n",
    "\n",
    "# Round to two decimal places\n",
    "round(total_sales, 2)"
   ],
   "id": "919b3ffe72e24625",
   "outputs": [
    {
     "data": {
      "text/plain": [
       "737.58"
      ]
     },
     "execution_count": 15,
     "metadata": {},
     "output_type": "execute_result"
    }
   ],
   "execution_count": 15
  },
  {
   "metadata": {
    "ExecuteTime": {
     "end_time": "2025-01-23T07:06:08.904400Z",
     "start_time": "2025-01-23T07:06:08.899828Z"
    }
   },
   "cell_type": "code",
   "source": [
    "total_sales = round(sum(sales), 2)\n",
    "total_sales"
   ],
   "id": "5b461008e12ea0a9",
   "outputs": [
    {
     "data": {
      "text/plain": [
       "737.58"
      ]
     },
     "execution_count": 16,
     "metadata": {},
     "output_type": "execute_result"
    }
   ],
   "execution_count": 16
  },
  {
   "metadata": {},
   "cell_type": "markdown",
   "source": "##### len()",
   "id": "6e85fc03c2aaa5aa"
  },
  {
   "metadata": {
    "ExecuteTime": {
     "end_time": "2025-01-23T07:06:10.947550Z",
     "start_time": "2025-01-23T07:06:10.942542Z"
    }
   },
   "cell_type": "code",
   "source": "len(sales)",
   "id": "271e68ea38b6733e",
   "outputs": [
    {
     "data": {
      "text/plain": [
       "7"
      ]
     },
     "execution_count": 17,
     "metadata": {},
     "output_type": "execute_result"
    }
   ],
   "execution_count": 17
  },
  {
   "metadata": {
    "ExecuteTime": {
     "end_time": "2025-01-23T07:06:12.085088Z",
     "start_time": "2025-01-23T07:06:12.079878Z"
    }
   },
   "cell_type": "code",
   "source": [
    "# Calculcate average sales\n",
    "sum(sales) / len(sales)"
   ],
   "id": "c8ad5c7341961ebb",
   "outputs": [
    {
     "data": {
      "text/plain": [
       "105.36857142857143"
      ]
     },
     "execution_count": 18,
     "metadata": {},
     "output_type": "execute_result"
    }
   ],
   "execution_count": 18
  },
  {
   "metadata": {},
   "cell_type": "markdown",
   "source": "##### len()",
   "id": "b0991453b7677bc8"
  },
  {
   "metadata": {
    "ExecuteTime": {
     "end_time": "2025-01-23T07:07:24.838942Z",
     "start_time": "2025-01-23T07:07:24.833117Z"
    }
   },
   "cell_type": "code",
   "source": "len(\"Introduction to Programming for Developers\")",
   "id": "cb6256d04be48ee",
   "outputs": [
    {
     "data": {
      "text/plain": [
       "42"
      ]
     },
     "execution_count": 20,
     "metadata": {},
     "output_type": "execute_result"
    }
   ],
   "execution_count": 20
  },
  {
   "metadata": {
    "ExecuteTime": {
     "end_time": "2025-01-23T07:08:07.555744Z",
     "start_time": "2025-01-23T07:08:07.547746Z"
    }
   },
   "cell_type": "code",
   "source": [
    "# Length of dictionary\n",
    "len({\"a\": 1, \"b\": 2, \"c\": 3})"
   ],
   "id": "2328c78146838b10",
   "outputs": [
    {
     "data": {
      "text/plain": [
       "3"
      ]
     },
     "execution_count": 21,
     "metadata": {},
     "output_type": "execute_result"
    }
   ],
   "execution_count": 21
  },
  {
   "metadata": {},
   "cell_type": "markdown",
   "source": "##### sorted()",
   "id": "9173fb4bef5e88ff"
  },
  {
   "metadata": {
    "ExecuteTime": {
     "end_time": "2025-01-23T07:08:50.314610Z",
     "start_time": "2025-01-23T07:08:50.307627Z"
    }
   },
   "cell_type": "code",
   "source": [
    "# Sort the sales list in ascending order\n",
    "sorted(sales)"
   ],
   "id": "e78c5dd68835f677",
   "outputs": [
    {
     "data": {
      "text/plain": [
       "[78.5, 83.67, 84.32, 99.78, 111.13, 125.97, 154.21]"
      ]
     },
     "execution_count": 22,
     "metadata": {},
     "output_type": "execute_result"
    }
   ],
   "execution_count": 22
  },
  {
   "metadata": {
    "ExecuteTime": {
     "end_time": "2025-01-23T07:09:16.436017Z",
     "start_time": "2025-01-23T07:09:16.416799Z"
    }
   },
   "cell_type": "code",
   "source": [
    "# Sort a string alphebetically\n",
    "sorted(\"George\")"
   ],
   "id": "dfbc21ad0d93f956",
   "outputs": [
    {
     "data": {
      "text/plain": [
       "['G', 'e', 'e', 'g', 'o', 'r']"
      ]
     },
     "execution_count": 23,
     "metadata": {},
     "output_type": "execute_result"
    }
   ],
   "execution_count": 23
  },
  {
   "metadata": {},
   "cell_type": "markdown",
   "source": "##### help()",
   "id": "d726cd102f16679"
  },
  {
   "metadata": {
    "ExecuteTime": {
     "end_time": "2025-01-23T07:09:33.382871Z",
     "start_time": "2025-01-23T07:09:33.369891Z"
    }
   },
   "cell_type": "code",
   "source": "help(sorted)",
   "id": "2143d87a4990cc45",
   "outputs": [
    {
     "name": "stdout",
     "output_type": "stream",
     "text": [
      "Help on built-in function sorted in module builtins:\n",
      "\n",
      "sorted(iterable, /, *, key=None, reverse=False)\n",
      "    Return a new list containing all items from the iterable in ascending order.\n",
      "\n",
      "    A custom key function can be supplied to customize the sort order, and the\n",
      "    reverse flag can be set to request the result in descending order.\n",
      "\n"
     ]
    }
   ],
   "execution_count": 24
  },
  {
   "metadata": {
    "ExecuteTime": {
     "end_time": "2025-01-23T07:10:13.733795Z",
     "start_time": "2025-01-23T07:10:13.719037Z"
    }
   },
   "cell_type": "code",
   "source": [
    "# Find total sales\n",
    "sum(sales)"
   ],
   "id": "3d1f4fb63a57e116",
   "outputs": [
    {
     "data": {
      "text/plain": [
       "737.58"
      ]
     },
     "execution_count": 25,
     "metadata": {},
     "output_type": "execute_result"
    }
   ],
   "execution_count": 25
  },
  {
   "metadata": {},
   "cell_type": "markdown",
   "source": "p##### Benefits of functions",
   "id": "4f2026094f297d92"
  },
  {
   "metadata": {
    "ExecuteTime": {
     "end_time": "2025-01-23T07:11:46.491890Z",
     "start_time": "2025-01-23T07:11:46.486082Z"
    }
   },
   "cell_type": "code",
   "source": [
    "# Find total sales\n",
    "# Create a variable to increment\n",
    "sales_count = 0\n",
    "\n",
    "# Loop through sales\n",
    "for sale in sales:\n",
    "    # Increment sales_count by eeach sale\n",
    "    sales_count += sale\n",
    "    print(sales_count)\n"
   ],
   "id": "3de2651e059b363e",
   "outputs": [
    {
     "name": "stdout",
     "output_type": "stream",
     "text": [
      "125.97\n",
      "210.29\n",
      "310.07\n",
      "464.28\n",
      "542.78\n",
      "626.4499999999999\n",
      "737.5799999999999\n"
     ]
    }
   ],
   "execution_count": 26
  },
  {
   "metadata": {},
   "cell_type": "code",
   "outputs": [],
   "execution_count": null,
   "source": "",
   "id": "9fc9ca9599afccf8"
  }
 ],
 "metadata": {
  "kernelspec": {
   "name": "python3",
   "language": "python",
   "display_name": "Python 3 (ipykernel)"
  }
 },
 "nbformat": 5,
 "nbformat_minor": 9
}
