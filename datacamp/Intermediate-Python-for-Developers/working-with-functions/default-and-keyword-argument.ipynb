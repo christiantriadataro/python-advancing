{
 "cells": [
  {
   "metadata": {
    "ExecuteTime": {
     "end_time": "2025-01-23T21:50:33.037569Z",
     "start_time": "2025-01-23T21:50:33.029515Z"
    }
   },
   "cell_type": "code",
   "source": [
    "def average(values):\n",
    "    return round(sum(values) / len(values), 2)"
   ],
   "id": "1da180bd47d9b0a3",
   "outputs": [],
   "execution_count": 1
  },
  {
   "metadata": {
    "ExecuteTime": {
     "end_time": "2025-01-23T21:50:40.511943Z",
     "start_time": "2025-01-23T21:50:40.486318Z"
    }
   },
   "cell_type": "code",
   "source": [
    "# Round pi to 2 digits\n",
    "round(3.14, 2)"
   ],
   "id": "5084ce6f718a8e97",
   "outputs": [
    {
     "data": {
      "text/plain": [
       "3.14"
      ]
     },
     "execution_count": 2,
     "metadata": {},
     "output_type": "execute_result"
    }
   ],
   "execution_count": 2
  },
  {
   "metadata": {
    "ExecuteTime": {
     "end_time": "2025-01-23T21:52:45.818824Z",
     "start_time": "2025-01-23T21:52:45.809152Z"
    }
   },
   "cell_type": "code",
   "source": "round(number=3.1415926535, ndigits=2)",
   "id": "c236221efdc9fc5d",
   "outputs": [
    {
     "data": {
      "text/plain": [
       "3.14"
      ]
     },
     "execution_count": 3,
     "metadata": {},
     "output_type": "execute_result"
    }
   ],
   "execution_count": 3
  },
  {
   "metadata": {
    "ExecuteTime": {
     "end_time": "2025-01-23T21:53:01.252424Z",
     "start_time": "2025-01-23T21:53:01.245014Z"
    }
   },
   "cell_type": "code",
   "source": "help(round)",
   "id": "9f6407c5d5b229fb",
   "outputs": [
    {
     "name": "stdout",
     "output_type": "stream",
     "text": [
      "Help on built-in function round in module builtins:\n",
      "\n",
      "round(number, ndigits=None)\n",
      "    Round a number to a given precision in decimal digits.\n",
      "\n",
      "    The return value is an integer if ndigits is omitted or None.  Otherwise\n",
      "    the return value has the same type as the number.  ndigits may be negative.\n",
      "\n"
     ]
    }
   ],
   "execution_count": 4
  },
  {
   "metadata": {
    "ExecuteTime": {
     "end_time": "2025-01-23T22:07:50.229558Z",
     "start_time": "2025-01-23T22:07:50.222547Z"
    }
   },
   "cell_type": "code",
   "source": "sales = [125.97, 84.32, 99.78, 154.21, 78.50, 83.67, 111.13]",
   "id": "1120c06a92e93605",
   "outputs": [],
   "execution_count": 7
  },
  {
   "metadata": {
    "ExecuteTime": {
     "end_time": "2025-01-23T22:08:31.794044Z",
     "start_time": "2025-01-23T22:08:31.788845Z"
    }
   },
   "cell_type": "code",
   "source": [
    "def average(values, rounded=False):\n",
    "    if not rounded:\n",
    "        return round(sum(values) / len(values), 2)\n",
    "    else:\n",
    "        return sum(values) / len(values)"
   ],
   "id": "cbce95349a5fce5f",
   "outputs": [],
   "execution_count": 11
  },
  {
   "metadata": {
    "ExecuteTime": {
     "end_time": "2025-01-23T22:08:33.478397Z",
     "start_time": "2025-01-23T22:08:33.472029Z"
    }
   },
   "cell_type": "code",
   "source": "average(sales)",
   "id": "75fa8b24d11d1660",
   "outputs": [
    {
     "data": {
      "text/plain": [
       "105.37"
      ]
     },
     "execution_count": 12,
     "metadata": {},
     "output_type": "execute_result"
    }
   ],
   "execution_count": 12
  },
  {
   "metadata": {},
   "cell_type": "code",
   "outputs": [],
   "execution_count": null,
   "source": "",
   "id": "d9d841382de711b1"
  }
 ],
 "metadata": {
  "kernelspec": {
   "name": "python3",
   "language": "python",
   "display_name": "Python 3 (ipykernel)"
  }
 },
 "nbformat": 5,
 "nbformat_minor": 9
}
