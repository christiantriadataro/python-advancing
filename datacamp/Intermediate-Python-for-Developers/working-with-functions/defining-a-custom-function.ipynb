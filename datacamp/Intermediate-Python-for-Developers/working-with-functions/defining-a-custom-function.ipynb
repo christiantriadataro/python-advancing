{
 "cells": [
  {
   "metadata": {},
   "cell_type": "markdown",
   "source": "##### Defining a Custom Function",
   "id": "ad40a844c96c1539"
  },
  {
   "metadata": {
    "ExecuteTime": {
     "end_time": "2025-01-23T08:55:15.022381Z",
     "start_time": "2025-01-23T08:55:15.012311Z"
    }
   },
   "cell_type": "code",
   "source": [
    "# Sales variable\n",
    "sales = [125.97, 84.32, 99.78, 154.21, 78.50, 83.67, 111.13]\n",
    "sales"
   ],
   "id": "67f2dd4db78b6938",
   "outputs": [
    {
     "data": {
      "text/plain": [
       "[125.97, 84.32, 99.78, 154.21, 78.5, 83.67, 111.13]"
      ]
     },
     "execution_count": 1,
     "metadata": {},
     "output_type": "execute_result"
    }
   ],
   "execution_count": 1
  },
  {
   "metadata": {
    "ExecuteTime": {
     "end_time": "2025-01-23T08:55:38.165384Z",
     "start_time": "2025-01-23T08:55:38.161482Z"
    }
   },
   "cell_type": "code",
   "source": [
    "# Calculating average sales\n",
    "average_sales = sum(sales) / len(sales)\n",
    "average_sales"
   ],
   "id": "2c0783908acb1c1",
   "outputs": [
    {
     "data": {
      "text/plain": [
       "105.36857142857143"
      ]
     },
     "execution_count": 4,
     "metadata": {},
     "output_type": "execute_result"
    }
   ],
   "execution_count": 4
  },
  {
   "metadata": {
    "ExecuteTime": {
     "end_time": "2025-01-23T08:55:50.285367Z",
     "start_time": "2025-01-23T08:55:50.273937Z"
    }
   },
   "cell_type": "code",
   "source": [
    "# Rounding the results\n",
    "rounded_average_sales = round(average_sales, 2)\n",
    "rounded_average_sales"
   ],
   "id": "f5dff41abdfdb456",
   "outputs": [
    {
     "data": {
      "text/plain": [
       "105.37"
      ]
     },
     "execution_count": 5,
     "metadata": {},
     "output_type": "execute_result"
    }
   ],
   "execution_count": 5
  },
  {
   "metadata": {},
   "cell_type": "code",
   "outputs": [],
   "execution_count": null,
   "source": [
    "# Create a custom function\n",
    "# num of lines\n",
    "# code complexity\n",
    "# frequency of use\n",
    "# don't repeat yourself"
   ],
   "id": "41e26448535fc16a"
  },
  {
   "metadata": {
    "ExecuteTime": {
     "end_time": "2025-01-23T08:58:35.275460Z",
     "start_time": "2025-01-23T08:58:35.271190Z"
    }
   },
   "cell_type": "code",
   "source": [
    "# Create a custom function to calculate the average value\n",
    "def average(values):\n",
    "    # Calculate the average\n",
    "    return round(sum(values) / len(values), 2)"
   ],
   "id": "f4c9c18570c4b13a",
   "outputs": [],
   "execution_count": 7
  },
  {
   "metadata": {
    "ExecuteTime": {
     "end_time": "2025-01-23T09:00:52.455071Z",
     "start_time": "2025-01-23T09:00:52.442904Z"
    }
   },
   "cell_type": "code",
   "source": [
    "average_sales = average(sales)\n",
    "average_sales"
   ],
   "id": "d7daa874247482ec",
   "outputs": [
    {
     "data": {
      "text/plain": [
       "105.37"
      ]
     },
     "execution_count": 9,
     "metadata": {},
     "output_type": "execute_result"
    }
   ],
   "execution_count": 9
  },
  {
   "metadata": {},
   "cell_type": "code",
   "outputs": [],
   "execution_count": null,
   "source": "",
   "id": "6ebd22748e870bf0"
  },
  {
   "metadata": {},
   "cell_type": "code",
   "outputs": [],
   "source": "",
   "id": "1da180bd47d9b0a3",
   "execution_count": null
  }
 ],
 "metadata": {
  "kernelspec": {
   "name": "python3",
   "language": "python",
   "display_name": "Python 3 (ipykernel)"
  }
 },
 "nbformat": 5,
 "nbformat_minor": 9
}
