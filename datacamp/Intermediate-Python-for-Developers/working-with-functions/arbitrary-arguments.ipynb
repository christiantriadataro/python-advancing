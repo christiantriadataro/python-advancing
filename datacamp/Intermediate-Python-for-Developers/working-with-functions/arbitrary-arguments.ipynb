{
 "cells": [
  {
   "metadata": {
    "ExecuteTime": {
     "end_time": "2025-01-23T22:30:15.156250Z",
     "start_time": "2025-01-23T22:30:15.148920Z"
    }
   },
   "cell_type": "code",
   "source": [
    "def average(*args):\n",
    "    # Calculate the rounded average\n",
    "    return round(sum(args) / len(args), 2)"
   ],
   "id": "1da180bd47d9b0a3",
   "outputs": [],
   "execution_count": 3
  },
  {
   "metadata": {
    "ExecuteTime": {
     "end_time": "2025-01-23T22:30:17.313935Z",
     "start_time": "2025-01-23T22:30:17.304908Z"
    }
   },
   "cell_type": "code",
   "source": "average(1, 2, 3, 4, 5)",
   "id": "d9d841382de711b1",
   "outputs": [
    {
     "data": {
      "text/plain": [
       "3.0"
      ]
     },
     "execution_count": 4,
     "metadata": {},
     "output_type": "execute_result"
    }
   ],
   "execution_count": 4
  },
  {
   "metadata": {
    "ExecuteTime": {
     "end_time": "2025-01-23T22:31:16.712680Z",
     "start_time": "2025-01-23T22:31:16.704079Z"
    }
   },
   "cell_type": "code",
   "source": "average(*[15, 29], *[4, 13], *[11, 8])",
   "id": "8470aabbb597bc5",
   "outputs": [
    {
     "data": {
      "text/plain": [
       "13.33"
      ]
     },
     "execution_count": 5,
     "metadata": {},
     "output_type": "execute_result"
    }
   ],
   "execution_count": 5
  },
  {
   "metadata": {
    "ExecuteTime": {
     "end_time": "2025-01-23T22:33:23.824769Z",
     "start_time": "2025-01-23T22:33:23.821090Z"
    }
   },
   "cell_type": "code",
   "source": [
    "def average(**kwargs):\n",
    "    return round(sum(kwargs.values()) / len(kwargs.values()), 2)"
   ],
   "id": "baa5ee57fccdad23",
   "outputs": [],
   "execution_count": 6
  },
  {
   "metadata": {
    "ExecuteTime": {
     "end_time": "2025-01-23T22:34:00.911825Z",
     "start_time": "2025-01-23T22:34:00.904665Z"
    }
   },
   "cell_type": "code",
   "source": "average(a=15, b=29, c=4, d=13, e=11, f=8)",
   "id": "e7c0c297f22c0b0a",
   "outputs": [
    {
     "data": {
      "text/plain": [
       "13.33"
      ]
     },
     "execution_count": 7,
     "metadata": {},
     "output_type": "execute_result"
    }
   ],
   "execution_count": 7
  },
  {
   "metadata": {
    "ExecuteTime": {
     "end_time": "2025-01-23T22:34:36.233723Z",
     "start_time": "2025-01-23T22:34:36.225563Z"
    }
   },
   "cell_type": "code",
   "source": "average(**{\"a\": 15, \"b\": 29, \"c\": 4, \"d\": 13, \"e\": 11, \"f\": 8})",
   "id": "71411a921f326110",
   "outputs": [
    {
     "data": {
      "text/plain": [
       "13.33"
      ]
     },
     "execution_count": 8,
     "metadata": {},
     "output_type": "execute_result"
    }
   ],
   "execution_count": 8
  },
  {
   "metadata": {
    "ExecuteTime": {
     "end_time": "2025-01-23T22:41:16.400731Z",
     "start_time": "2025-01-23T22:41:16.391845Z"
    }
   },
   "cell_type": "code",
   "source": [
    "def concat(*args):\n",
    "    return \"\".join(args)\n",
    "\n",
    "\n",
    "print(concat(\"Hello \", \"World!\"))"
   ],
   "id": "df5540ca29220001",
   "outputs": [
    {
     "name": "stdout",
     "output_type": "stream",
     "text": [
      "Hello World!\n"
     ]
    }
   ],
   "execution_count": 9
  },
  {
   "metadata": {},
   "cell_type": "code",
   "outputs": [],
   "execution_count": null,
   "source": "",
   "id": "53e7e192e2438a36"
  }
 ],
 "metadata": {
  "kernelspec": {
   "name": "python3",
   "language": "python",
   "display_name": "Python 3 (ipykernel)"
  }
 },
 "nbformat": 5,
 "nbformat_minor": 9
}
