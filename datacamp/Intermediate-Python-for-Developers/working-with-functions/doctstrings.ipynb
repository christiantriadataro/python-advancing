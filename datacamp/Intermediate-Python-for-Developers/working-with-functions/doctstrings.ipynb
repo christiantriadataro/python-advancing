{
 "cells": [
  {
   "metadata": {
    "ExecuteTime": {
     "end_time": "2025-01-23T22:18:21.949859Z",
     "start_time": "2025-01-23T22:18:21.939972Z"
    }
   },
   "cell_type": "code",
   "source": "round.__doc__",
   "id": "52141d0ea4ddc05b",
   "outputs": [
    {
     "data": {
      "text/plain": [
       "'Round a number to a given precision in decimal digits.\\n\\nThe return value is an integer if ndigits is omitted or None.  Otherwise\\nthe return value has the same type as the number.  ndigits may be negative.'"
      ]
     },
     "execution_count": 2,
     "metadata": {},
     "output_type": "execute_result"
    }
   ],
   "execution_count": 2
  },
  {
   "metadata": {
    "ExecuteTime": {
     "end_time": "2025-01-23T22:20:51.858360Z",
     "start_time": "2025-01-23T22:20:51.849109Z"
    }
   },
   "cell_type": "code",
   "source": "help(round)",
   "id": "65aa59f7ecce6e4a",
   "outputs": [
    {
     "name": "stdout",
     "output_type": "stream",
     "text": [
      "Help on built-in function round in module builtins:\n",
      "\n",
      "round(number, ndigits=None)\n",
      "    Round a number to a given precision in decimal digits.\n",
      "\n",
      "    The return value is an integer if ndigits is omitted or None.  Otherwise\n",
      "    the return value has the same type as the number.  ndigits may be negative.\n",
      "\n"
     ]
    }
   ],
   "execution_count": 3
  },
  {
   "metadata": {
    "ExecuteTime": {
     "end_time": "2025-01-23T22:22:18.972042Z",
     "start_time": "2025-01-23T22:22:18.966809Z"
    }
   },
   "cell_type": "code",
   "source": [
    "def average(values):\n",
    "    # One-line docstring\n",
    "    \"\"\"Find the mean in a sequence of values and round to two decimal places.\"\"\"\n",
    "    return round(sum(values) / len(values), 2)"
   ],
   "id": "c15483f3f93a37de",
   "outputs": [],
   "execution_count": 4
  },
  {
   "metadata": {
    "ExecuteTime": {
     "end_time": "2025-01-23T22:22:23.944154Z",
     "start_time": "2025-01-23T22:22:23.933341Z"
    }
   },
   "cell_type": "code",
   "source": "average.__doc__",
   "id": "5ca2752c55a50992",
   "outputs": [
    {
     "data": {
      "text/plain": [
       "'Find the mean in a sequence of values and round to two decimal places.'"
      ]
     },
     "execution_count": 5,
     "metadata": {},
     "output_type": "execute_result"
    }
   ],
   "execution_count": 5
  },
  {
   "metadata": {},
   "cell_type": "code",
   "outputs": [],
   "execution_count": null,
   "source": [
    "def average(values):\n",
    "    \"\"\"\n",
    "    Find the mean in a sequence of values and round to two decimal places.\n",
    "\n",
    "    Args:\n",
    "        values (list): A list of numeric values.\n",
    "\n",
    "    Returns:\n",
    "        rounded_average (float): The average rounded to two decimal places.\n",
    "    \"\"\""
   ],
   "id": "b764a12ecc647eaf"
  }
 ],
 "metadata": {
  "kernelspec": {
   "name": "python3",
   "language": "python",
   "display_name": "Python 3 (ipykernel)"
  }
 },
 "nbformat": 5,
 "nbformat_minor": 9
}
