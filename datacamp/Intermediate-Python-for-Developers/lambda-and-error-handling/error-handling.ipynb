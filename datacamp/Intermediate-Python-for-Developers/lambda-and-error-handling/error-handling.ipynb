{
 "cells": [
  {
   "metadata": {},
   "cell_type": "markdown",
   "source": [
    "##### Error handling techniques\n",
    " - Control flow if, elif, else\n",
    "  - Docstrings"
   ],
   "id": "244f91a05b2b181d"
  },
  {
   "metadata": {},
   "cell_type": "markdown",
   "source": "###### try-except",
   "id": "3298d239a8654bf5"
  },
  {
   "metadata": {},
   "cell_type": "code",
   "outputs": [],
   "execution_count": null,
   "source": [
    "def average(values):\n",
    "    try:\n",
    "        return sum(values) / len(values)\n",
    "    except:\n",
    "        print(\"average() accepts a list or set. Please provide a correct data type.\")"
   ],
   "id": "268bb30dbf99b5b6"
  },
  {
   "metadata": {},
   "cell_type": "markdown",
   "source": "#### raise",
   "id": "2418de63795c478f"
  },
  {
   "metadata": {
    "ExecuteTime": {
     "end_time": "2025-01-25T02:00:29.302123Z",
     "start_time": "2025-01-25T02:00:29.294804Z"
    }
   },
   "cell_type": "code",
   "source": [
    "def average(values):\n",
    "    if type(values) in [\"list\", \"set\"]:\n",
    "        return sum(values) / len(values)\n",
    "    else:\n",
    "        raise TypeError(\"average() accepts a list or set, please provide a correct data type.\")"
   ],
   "id": "c58b946ec35fa3d2",
   "outputs": [],
   "execution_count": 1
  },
  {
   "metadata": {},
   "cell_type": "markdown",
   "source": [
    "##### try-except vs. raise\n",
    "- Avoid errors being produced\n",
    "- Still execute subsequence code\n",
    "\n",
    "##### raise\n",
    "- Will product an error\n",
    "- Avoid executing subsequent code"
   ],
   "id": "858d10a10772db1b"
  },
  {
   "metadata": {},
   "cell_type": "code",
   "outputs": [],
   "execution_count": null,
   "source": "",
   "id": "732d16e9069a466c"
  }
 ],
 "metadata": {
  "kernelspec": {
   "name": "python3",
   "language": "python",
   "display_name": "Python 3 (ipykernel)"
  }
 },
 "nbformat": 5,
 "nbformat_minor": 9
}
