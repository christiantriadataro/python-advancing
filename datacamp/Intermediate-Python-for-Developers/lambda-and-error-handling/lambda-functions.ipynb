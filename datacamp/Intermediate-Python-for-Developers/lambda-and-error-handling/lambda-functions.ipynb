{
 "cells": [
  {
   "metadata": {},
   "cell_type": "code",
   "outputs": [],
   "execution_count": null,
   "source": "# lambda argument(s): expression",
   "id": "b764a12ecc647eaf"
  },
  {
   "metadata": {
    "ExecuteTime": {
     "end_time": "2025-01-23T22:49:37.001696Z",
     "start_time": "2025-01-23T22:49:36.988624Z"
    }
   },
   "cell_type": "code",
   "source": "(lambda x: sum(x) / len(x))([3, 6, 9])",
   "id": "df3ebf4263ccf59c",
   "outputs": [
    {
     "data": {
      "text/plain": [
       "6.0"
      ]
     },
     "execution_count": 1,
     "metadata": {},
     "output_type": "execute_result"
    }
   ],
   "execution_count": 1
  },
  {
   "metadata": {
    "ExecuteTime": {
     "end_time": "2025-01-23T22:50:10.510006Z",
     "start_time": "2025-01-23T22:50:10.493874Z"
    }
   },
   "cell_type": "code",
   "source": [
    "average = lambda x: sum(x) / len(x)\n",
    "average([3, 6, 9])"
   ],
   "id": "df8668151729abfb",
   "outputs": [
    {
     "data": {
      "text/plain": [
       "6.0"
      ]
     },
     "execution_count": 4,
     "metadata": {},
     "output_type": "execute_result"
    }
   ],
   "execution_count": 4
  },
  {
   "metadata": {
    "ExecuteTime": {
     "end_time": "2025-01-23T22:50:35.417584Z",
     "start_time": "2025-01-23T22:50:35.409383Z"
    }
   },
   "cell_type": "code",
   "source": "(lambda x, y: x ** y)(2, 3)",
   "id": "3fb6ab2661451ab2",
   "outputs": [
    {
     "data": {
      "text/plain": [
       "8"
      ]
     },
     "execution_count": 5,
     "metadata": {},
     "output_type": "execute_result"
    }
   ],
   "execution_count": 5
  },
  {
   "metadata": {
    "ExecuteTime": {
     "end_time": "2025-01-23T22:52:08.799762Z",
     "start_time": "2025-01-23T22:52:08.792111Z"
    }
   },
   "cell_type": "code",
   "source": [
    "names = [\"John\", \"Eric\", \"Michael\"]\n",
    "capitalize = map(lambda x: x.capitalize(), names)\n",
    "list(capitalize)"
   ],
   "id": "7c42b81d1888579b",
   "outputs": [
    {
     "data": {
      "text/plain": [
       "['John', 'Eric', 'Michael']"
      ]
     },
     "execution_count": 8,
     "metadata": {},
     "output_type": "execute_result"
    }
   ],
   "execution_count": 8
  },
  {
   "metadata": {
    "ExecuteTime": {
     "end_time": "2025-01-23T22:56:59.261895Z",
     "start_time": "2025-01-23T22:56:59.252669Z"
    }
   },
   "cell_type": "code",
   "source": [
    "sales_prices = [29.99, 9.95, 14.50, 39.75, 60.00]\n",
    "\n",
    "# Create add_taxes to add 20% to each item in sales_prices\n",
    "add_taxes = map(lambda x: round(x * 1.2, 2), sales_prices)\n",
    "\n",
    "# Use add_taxes to return a new list with updated values\n",
    "print(list(add_taxes))"
   ],
   "id": "a7258184d7a749d2",
   "outputs": [
    {
     "name": "stdout",
     "output_type": "stream",
     "text": [
      "[35.99, 11.94, 17.4, 47.7, 72.0]\n"
     ]
    }
   ],
   "execution_count": 9
  },
  {
   "metadata": {},
   "cell_type": "code",
   "outputs": [],
   "execution_count": null,
   "source": "",
   "id": "c823a9388e23a1ad"
  }
 ],
 "metadata": {
  "kernelspec": {
   "name": "python3",
   "language": "python",
   "display_name": "Python 3 (ipykernel)"
  }
 },
 "nbformat": 5,
 "nbformat_minor": 9
}
