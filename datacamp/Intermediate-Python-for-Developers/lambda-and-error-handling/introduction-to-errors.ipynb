{
 "cells": [
  {
   "metadata": {},
   "cell_type": "markdown",
   "source": [
    "##### TypeErrors\n",
    "- incorrect data types"
   ],
   "id": "244f91a05b2b181d"
  },
  {
   "metadata": {},
   "cell_type": "code",
   "outputs": [],
   "execution_count": null,
   "source": "\"HEllo\" + 5",
   "id": "268bb30dbf99b5b6"
  },
  {
   "metadata": {},
   "cell_type": "markdown",
   "source": [
    "##### ValueError\n",
    "- The value is not acceptable in an acceptance file."
   ],
   "id": "2418de63795c478f"
  },
  {
   "metadata": {},
   "cell_type": "code",
   "outputs": [],
   "execution_count": null,
   "source": "float(\"Hello\")",
   "id": "c58b946ec35fa3d2"
  },
  {
   "metadata": {},
   "cell_type": "markdown",
   "source": "#### Traceback",
   "id": "858d10a10772db1b"
  },
  {
   "metadata": {},
   "cell_type": "code",
   "outputs": [],
   "execution_count": null,
   "source": "",
   "id": "732d16e9069a466c"
  }
 ],
 "metadata": {
  "kernelspec": {
   "name": "python3",
   "language": "python",
   "display_name": "Python 3 (ipykernel)"
  }
 },
 "nbformat": 5,
 "nbformat_minor": 9
}
