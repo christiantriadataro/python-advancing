{
 "cells": [
  {
   "metadata": {},
   "cell_type": "markdown",
   "source": [
    "##### Get operation review\n",
    "HTTP protocol -several types of operations\n",
    "- GET is the most common\n",
    "Example: https://www.google.com:80/search?q=fastapi\n",
    "The key parts of a GET request are:\n",
    "- Host, e.g., www.google.com\n",
    "- Port, e.g., 80 (default)\n",
    "- Path, e.g., /search\n",
    "- Query String, e.g., ?q=fastapi"
   ],
   "id": "4f576a7eb0b475f0"
  },
  {
   "metadata": {
    "ExecuteTime": {
     "end_time": "2025-01-25T10:21:41.386162Z",
     "start_time": "2025-01-25T10:21:40.955756Z"
    }
   },
   "cell_type": "code",
   "source": "import requests",
   "id": "6db24fa80c230e42",
   "outputs": [],
   "execution_count": 2
  },
  {
   "metadata": {},
   "cell_type": "markdown",
   "source": [
    "##### GET vs. POST operations\n",
    "GET operations\n",
    "- Traditional use: request info about an object\n",
    "- Parameters sent via query string\n",
    "\n",
    "POST operations\n",
    "- Traditional use: create a new object\n",
    "- Parameters sent via query string as well as request body"
   ],
   "id": "e2913553a53ae239"
  },
  {
   "metadata": {
    "ExecuteTime": {
     "end_time": "2025-01-25T10:21:54.778247Z",
     "start_time": "2025-01-25T10:21:42.875103Z"
    }
   },
   "cell_type": "code",
   "source": [
    "api = \"http://moviereviews.co/reviews/1\"\n",
    "response = requests.get(api)"
   ],
   "id": "d3d62f572f1b08e2",
   "outputs": [],
   "execution_count": 3
  },
  {
   "metadata": {
    "ExecuteTime": {
     "end_time": "2025-01-25T10:22:15.267407Z",
     "start_time": "2025-01-25T10:22:15.061645Z"
    }
   },
   "cell_type": "code",
   "source": [
    "api = \"http://moviereviews.co/reviews/\"\n",
    "body = {\"text\": \"A great movie!\"}\n",
    "response = requests.post(api, json=body)"
   ],
   "id": "80d9b4849d06d7e1",
   "outputs": [],
   "execution_count": 4
  },
  {
   "metadata": {},
   "cell_type": "markdown",
   "source": [
    "##### HTTP Request Body\n",
    "- Data sent after the HTTP request header\n",
    "- Header specifies body encoding\n",
    "- Supports nested data structures\n",
    "- JSON and XML are the most common encodings for APIs\n",
    "- JSON is FASTAPI default encoding"
   ],
   "id": "c7c7fba9a582f1de"
  },
  {
   "metadata": {},
   "cell_type": "code",
   "outputs": [],
   "execution_count": null,
   "source": [
    "{\"movie\": \"The Neverending Story\",\n",
    " \"review\": {\n",
    "     \"num_stars\": 4,\n",
    "     \"text\": \"Great movie!\",\n",
    "     \"public\": True\n",
    " }\n",
    " }"
   ],
   "id": "4fed05ae1d116ea9"
  },
  {
   "metadata": {},
   "cell_type": "markdown",
   "source": [
    "##### Using pydantic's BaseModel\n",
    "pydantic: interface to define request and response body schemas"
   ],
   "id": "a6d83ba707885821"
  },
  {
   "metadata": {
    "ExecuteTime": {
     "end_time": "2025-01-25T10:25:14.148212Z",
     "start_time": "2025-01-25T10:25:13.972245Z"
    }
   },
   "cell_type": "code",
   "source": [
    "from pydantic import BaseModel\n",
    "\n",
    "\n",
    "class Review(BaseModel):\n",
    "    num_stars: int\n",
    "    text: str\n",
    "    public: bool = False\n",
    "\n",
    "\n",
    "class MovieReview(BaseModel):\n",
    "    movie: str\n",
    "    # Nest Review in MovieReview\n",
    "    review: Review"
   ],
   "id": "c7797da866fb2c0",
   "outputs": [],
   "execution_count": 5
  },
  {
   "metadata": {},
   "cell_type": "markdown",
   "source": [
    "##### Handling a POST Operation\n",
    "POST endpoint to create a new movie review:\n",
    "- Endpoint: /reviews"
   ],
   "id": "cb098d16b52cfc84"
  },
  {
   "metadata": {},
   "cell_type": "markdown",
   "source": "",
   "id": "cca5f20273c9c9af"
  },
  {
   "metadata": {},
   "cell_type": "code",
   "outputs": [],
   "execution_count": null,
   "source": [
    "@app.post(\"/reviews\", response_model=DBReview)\n",
    "def create_review(review: MovieReview):\n",
    "    # Persist the movie review to the database\n",
    "    db_review = crud.create_review(review)\n",
    "    # Return the review including database ID\n",
    "    return db_review"
   ],
   "id": "f71bc6f05e9d1f"
  }
 ],
 "metadata": {
  "kernelspec": {
   "name": "python3",
   "language": "python",
   "display_name": "Python 3 (ipykernel)"
  }
 },
 "nbformat": 5,
 "nbformat_minor": 9
}
