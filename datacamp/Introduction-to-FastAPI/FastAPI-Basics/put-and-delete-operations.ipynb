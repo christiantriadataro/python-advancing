{
 "cells": [
  {
   "metadata": {},
   "cell_type": "markdown",
   "source": [
    "##### Get operation review\n",
    "HTTP protocol -several types of operations\n",
    "- GET is the most common\n",
    "Example: https://www.google.com:80/search?q=fastapi\n",
    "The key parts of a GET request are:\n",
    "- Host, e.g., www.google.com\n",
    "- Port, e.g., 80 (default)\n",
    "- Path, e.g., /search\n",
    "- Query String, e.g., ?q=fastapi"
   ],
   "id": "4f576a7eb0b475f0"
  },
  {
   "metadata": {},
   "cell_type": "markdown",
   "source": [
    "#### PUT vs DELETE\n",
    "PUT Operations\n",
    "- Traditional use: update an existing object\n",
    "- Parameters sent via query string as well as request body\n",
    "- Requires an application or framework\n",
    "    - e.g. cURL, requests"
   ],
   "id": "e2913553a53ae239"
  },
  {
   "metadata": {},
   "cell_type": "code",
   "outputs": [],
   "execution_count": null,
   "source": [
    "api = \"http://moviereviews.co/reviews/1\"\n",
    "body = {\"text\": \"A fanstatic movie\"}\n",
    "response = requests.put(api, json=body)"
   ],
   "id": "9d4c521ec55b2e5e"
  },
  {
   "metadata": {},
   "cell_type": "markdown",
   "source": [
    "DELETE Operations\n",
    "- Traditional use: delete an existing object\n",
    "- Parameters sent via query string as well as request body\n",
    "- Requires an application or framework\n",
    "    - e.g, cURL, requests"
   ],
   "id": "83fda9d737cd1ac1"
  },
  {
   "metadata": {
    "ExecuteTime": {
     "end_time": "2025-01-25T09:42:53.138966Z",
     "start_time": "2025-01-25T09:42:53.127401Z"
    }
   },
   "cell_type": "code",
   "source": [
    "api = \"http://moviereviews.co/reviews/1\"\n",
    "response = requests.delete(api)"
   ],
   "id": "d3d62f572f1b08e2",
   "outputs": [],
   "execution_count": 2
  },
  {
   "metadata": {},
   "cell_type": "markdown",
   "source": [
    "##### Referencing Existing Objects\n",
    "- No ORM, so app must map object to ID\n",
    "- Database ID  unique identifier\n",
    "- _id convention for database IDs\n",
    "    - review_id: Table reviews, column id"
   ],
   "id": "91dbfa95a32131b1"
  },
  {
   "metadata": {},
   "cell_type": "code",
   "outputs": [],
   "execution_count": null,
   "source": [
    "from pydantic import BaseModel\n",
    "\n",
    "\n",
    "class DbReview(BaseModel):\n",
    "    movie: str\n",
    "    num_stars: int\n",
    "    text: str\n",
    "    # Reference database ID of reviews\n",
    "    review_id: int"
   ],
   "id": "80d9b4849d06d7e1"
  },
  {
   "metadata": {},
   "cell_type": "markdown",
   "source": [
    "###### Handling a PUT Operation\n",
    "PUT endpoint to update an existing movie review:\n",
    "- Endpoint: /reviews"
   ],
   "id": "a3d50b53d82b4a23"
  },
  {
   "metadata": {},
   "cell_type": "code",
   "outputs": [],
   "execution_count": null,
   "source": [
    "@app.put(\"/reviews\", response_model=DbReview)\n",
    "def update_review(review: DbReview):\n",
    "\n",
    "\n",
    "# Update the movie reviewi nthe datebase\n",
    "db_review = crud.update_review(review)\n",
    "return db_review"
   ],
   "id": "cad673e6b5b15d4b"
  },
  {
   "metadata": {},
   "cell_type": "markdown",
   "source": [
    "##### Handling a DELETE Operation\n",
    "DELETE endpoint to remove an existing movie review:\n",
    "- Endpoint: /reviews\n",
    "- Input: DbReview\n",
    "- Output: {}"
   ],
   "id": "e65bc1ff9646a148"
  },
  {
   "metadata": {},
   "cell_type": "code",
   "outputs": [],
   "execution_count": null,
   "source": [
    "@app.delete(\"/reviews\")\n",
    "def delete_review(review: DbReview):\n",
    "    # Delete the movie review from the database\n",
    "    crud.delete_review(review)\n",
    "    # Return nothing since the data is gone\n",
    "    return {}"
   ],
   "id": "f252d9065e05890d"
  }
 ],
 "metadata": {
  "kernelspec": {
   "name": "python3",
   "language": "python",
   "display_name": "Python 3 (ipykernel)"
  }
 },
 "nbformat": 5,
 "nbformat_minor": 9
}
