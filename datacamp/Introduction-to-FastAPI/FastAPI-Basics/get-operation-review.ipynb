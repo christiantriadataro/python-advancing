{
 "cells": [
  {
   "metadata": {},
   "cell_type": "markdown",
   "source": [
    "##### Get operation review\n",
    "HTTP protocol -several types of operations\n",
    "- GET is the most common\n",
    "Example: https://www.google.com:80/search?q=fastapi\n",
    "The key parts of a GET request are:\n",
    "- Host, e.g., www.google.com\n",
    "- Port, e.g., 80 (default)\n",
    "- Path, e.g., /search\n",
    "- Query String, e.g., ?q=fastapi"
   ],
   "id": "4f576a7eb0b475f0"
  },
  {
   "metadata": {},
   "cell_type": "markdown",
   "source": "FastAPI GET operation",
   "id": "e2913553a53ae239"
  },
  {
   "metadata": {
    "ExecuteTime": {
     "end_time": "2025-01-25T09:42:53.138966Z",
     "start_time": "2025-01-25T09:42:53.127401Z"
    }
   },
   "cell_type": "code",
   "source": [
    "from fastapi import FastAPI\n",
    "\n",
    "# Instantiate app\n",
    "app = FastAPI()\n",
    "\n",
    "\n",
    "# Handle get requests to root\n",
    "@app.get(\"/\")\n",
    "def root():\n",
    "    return {\"message\": \"Hello World\"}\n",
    "\n",
    "\n",
    "@app.get(\"/hello\")\n",
    "def hello(name: str = \"Alan\"):\n",
    "    return {\"message\": f\"Hello {name}\"}\n"
   ],
   "id": "d3d62f572f1b08e2",
   "outputs": [],
   "execution_count": 2
  },
  {
   "metadata": {},
   "cell_type": "code",
   "outputs": [],
   "execution_count": null,
   "source": "",
   "id": "80d9b4849d06d7e1"
  }
 ],
 "metadata": {
  "kernelspec": {
   "name": "python3",
   "language": "python",
   "display_name": "Python 3 (ipykernel)"
  }
 },
 "nbformat": 5,
 "nbformat_minor": 9
}
