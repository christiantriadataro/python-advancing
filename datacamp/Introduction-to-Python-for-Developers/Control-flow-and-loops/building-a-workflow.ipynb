{
 "cells": [
  {
   "metadata": {
    "ExecuteTime": {
     "end_time": "2025-01-23T04:32:27.453666Z",
     "start_time": "2025-01-23T04:32:27.445688Z"
    }
   },
   "cell_type": "code",
   "source": [
    "products_dict = {\n",
    "    \"AG32\": 87.99,\n",
    "    \"HT91\": 21.50,\n",
    "    \"PL65\": 43.75,\n",
    "    \"OS31\": 19.99,\n",
    "    \"KB07\": 62.95,\n",
    "    \"TR48\": 98.0\n",
    "}\n",
    "\n",
    "if \"OS31\" in products_dict.keys():\n",
    "    print(True)\n",
    "else:\n",
    "    print(False)"
   ],
   "id": "9cf206c7e8ace688",
   "outputs": [
    {
     "name": "stdout",
     "output_type": "stream",
     "text": [
      "True\n"
     ]
    }
   ],
   "execution_count": 11
  },
  {
   "metadata": {
    "ExecuteTime": {
     "end_time": "2025-01-23T04:27:42.397831Z",
     "start_time": "2025-01-23T04:27:42.390199Z"
    }
   },
   "cell_type": "code",
   "source": [
    "if \"OS31\" not in products_dict.keys():\n",
    "    print(True)\n",
    "else:\n",
    "    print(False)"
   ],
   "id": "dc2e81dd125d965a",
   "outputs": [
    {
     "name": "stdout",
     "output_type": "stream",
     "text": [
      "False\n"
     ]
    }
   ],
   "execution_count": 5
  },
  {
   "metadata": {
    "ExecuteTime": {
     "end_time": "2025-01-23T04:29:13.052809Z",
     "start_time": "2025-01-23T04:29:13.045939Z"
    }
   },
   "cell_type": "code",
   "source": [
    "if \"HT91\" in products_dict.keys() and min(products_dict.values() > 5):\n",
    "    print(True)\n",
    "else:\n",
    "    print(False)"
   ],
   "id": "59f21317e493f89a",
   "outputs": [
    {
     "name": "stdout",
     "output_type": "stream",
     "text": [
      "False\n"
     ]
    }
   ],
   "execution_count": 6
  },
  {
   "metadata": {
    "ExecuteTime": {
     "end_time": "2025-01-23T04:31:59.015371Z",
     "start_time": "2025-01-23T04:31:59.007811Z"
    }
   },
   "cell_type": "code",
   "source": [
    "if \"HT91\" in products_dict.keys() or min(products_dict.values()) < 5:\n",
    "    print(True)\n",
    "else:\n",
    "    print(False)"
   ],
   "id": "74348d24229519f1",
   "outputs": [
    {
     "name": "stdout",
     "output_type": "stream",
     "text": [
      "False\n"
     ]
    }
   ],
   "execution_count": 9
  },
  {
   "metadata": {
    "ExecuteTime": {
     "end_time": "2025-01-23T04:39:02.642731Z",
     "start_time": "2025-01-23T04:39:02.636948Z"
    }
   },
   "cell_type": "code",
   "source": [
    "sales_count = 0\n",
    "for sale in range(1, 10):\n",
    "    sales_count += 1\n",
    "stock = 10\n",
    "for sale in range(1, 10):\n",
    "    stock -= 1"
   ],
   "id": "e117022d73752bb5",
   "outputs": [],
   "execution_count": 12
  },
  {
   "metadata": {
    "ExecuteTime": {
     "end_time": "2025-01-23T04:40:11.246448Z",
     "start_time": "2025-01-23T04:40:11.236764Z"
    }
   },
   "cell_type": "code",
   "source": [
    "expensive_products = []\n",
    "\n",
    "for key, val in products_dict.items():\n",
    "    if val >= 20:\n",
    "        expensive_products.append(key)\n",
    "expensive_products"
   ],
   "id": "c704a0f65977681b",
   "outputs": [
    {
     "data": {
      "text/plain": [
       "['AG32', 'HT91', 'PL65', 'KB07', 'TR48']"
      ]
     },
     "execution_count": 14,
     "metadata": {},
     "output_type": "execute_result"
    }
   ],
   "execution_count": 14
  },
  {
   "metadata": {
    "ExecuteTime": {
     "end_time": "2025-01-22T20:21:47.492153Z",
     "start_time": "2025-01-22T20:21:47.489011Z"
    }
   },
   "cell_type": "code",
   "source": [
    "for key in product_dict.keys():\n",
    "    print(key)"
   ],
   "id": "84db8c2dee8471ef",
   "outputs": [
    {
     "name": "stdout",
     "output_type": "stream",
     "text": [
      "AG32\n",
      "HT91\n",
      "PL65\n",
      "OS31\n",
      "KB07\n",
      "TR48\n"
     ]
    }
   ],
   "execution_count": 10
  },
  {
   "metadata": {
    "ExecuteTime": {
     "end_time": "2025-01-22T20:21:56.395960Z",
     "start_time": "2025-01-22T20:21:56.390795Z"
    }
   },
   "cell_type": "code",
   "source": [
    "for val in product_dict.values():\n",
    "    print(val)"
   ],
   "id": "e19a2b85c9b29081",
   "outputs": [
    {
     "name": "stdout",
     "output_type": "stream",
     "text": [
      "87.99\n",
      "21.5\n",
      "43.75\n",
      "19.99\n",
      "62.95\n",
      "98.0\n"
     ]
    }
   ],
   "execution_count": 11
  },
  {
   "metadata": {
    "ExecuteTime": {
     "end_time": "2025-01-22T20:23:01.855419Z",
     "start_time": "2025-01-22T20:23:01.840465Z"
    }
   },
   "cell_type": "code",
   "source": [
    "# range(start, end + 1)\n",
    "for i in range(1, 6):\n",
    "    print(i)"
   ],
   "id": "9e260337c6451540",
   "outputs": [
    {
     "name": "stdout",
     "output_type": "stream",
     "text": [
      "1\n",
      "2\n",
      "3\n",
      "4\n",
      "5\n"
     ]
    }
   ],
   "execution_count": 12
  },
  {
   "metadata": {
    "ExecuteTime": {
     "end_time": "2025-01-22T20:24:42.145381Z",
     "start_time": "2025-01-22T20:24:42.117508Z"
    }
   },
   "cell_type": "code",
   "source": [
    "# No visits yet\n",
    "visits = 0\n",
    "for i in range(1, 11):\n",
    "    visits += 1\n",
    "    print(visits)"
   ],
   "id": "246a06f118bad02d",
   "outputs": [
    {
     "name": "stdout",
     "output_type": "stream",
     "text": [
      "1\n",
      "2\n",
      "3\n",
      "4\n",
      "5\n",
      "6\n",
      "7\n",
      "8\n",
      "9\n",
      "10\n"
     ]
    }
   ],
   "execution_count": 13
  },
  {
   "metadata": {},
   "cell_type": "code",
   "outputs": [],
   "execution_count": null,
   "source": "",
   "id": "36b9becd5cea9fbf"
  }
 ],
 "metadata": {
  "kernelspec": {
   "name": "python3",
   "language": "python",
   "display_name": "Python 3 (ipykernel)"
  }
 },
 "nbformat": 5,
 "nbformat_minor": 9
}
