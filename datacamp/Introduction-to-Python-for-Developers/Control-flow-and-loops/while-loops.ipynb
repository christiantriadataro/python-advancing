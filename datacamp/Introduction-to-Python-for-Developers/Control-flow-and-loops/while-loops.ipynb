{
 "cells": [
  {
   "metadata": {
    "ExecuteTime": {
     "end_time": "2025-01-23T03:35:46.569832Z",
     "start_time": "2025-01-23T03:35:46.563685Z"
    }
   },
   "cell_type": "code",
   "source": [
    "# Stock limit\n",
    "stock = 10\n",
    "\n",
    "# Number of purchases\n",
    "num_purchases = 0\n",
    "\n",
    "# While num_phrases < stock limit\n",
    "while num_purchases < stock:\n",
    "    # Increment num_purchases\n",
    "    num_purchases += 1\n",
    "    # Print remaining stock\n",
    "    print(stock - num_purchases)"
   ],
   "id": "9cf206c7e8ace688",
   "outputs": [
    {
     "name": "stdout",
     "output_type": "stream",
     "text": [
      "9\n",
      "8\n",
      "7\n",
      "6\n",
      "5\n",
      "4\n",
      "3\n",
      "2\n",
      "1\n",
      "0\n"
     ]
    }
   ],
   "execution_count": 2
  },
  {
   "metadata": {
    "ExecuteTime": {
     "end_time": "2025-01-23T03:39:38.953094Z",
     "start_time": "2025-01-23T03:39:38.947640Z"
    }
   },
   "cell_type": "code",
   "source": [
    "stock = 10\n",
    "num_purchases = 0\n",
    "# While num_purchases < threshold\n",
    "while num_purchases < stock:\n",
    "    # Increment num_purchases\n",
    "    num_purchases += 1\n",
    "    # Conditional statement inside the loop\n",
    "    if stock - num_purchases > 7:\n",
    "        print(\"Plenty of stock remaining\")\n",
    "    elif stock - num_purchases > 3:\n",
    "        print(\"Some stock remaining\")\n",
    "    elif stock - num_purchases != 0:\n",
    "        print(\"Low stock!\")\n",
    "    else:\n",
    "        print(\"No stock!\")"
   ],
   "id": "dc2e81dd125d965a",
   "outputs": [
    {
     "name": "stdout",
     "output_type": "stream",
     "text": [
      "Plenty of stock remaining\n",
      "Plenty of stock remaining\n",
      "Some stock remaining\n",
      "Some stock remaining\n",
      "Some stock remaining\n",
      "Some stock remaining\n",
      "Low stock!\n",
      "Low stock!\n",
      "Low stock!\n",
      "No stock!\n"
     ]
    }
   ],
   "execution_count": 7
  },
  {
   "metadata": {
    "ExecuteTime": {
     "end_time": "2025-01-22T20:19:18.061035Z",
     "start_time": "2025-01-22T20:19:18.052194Z"
    }
   },
   "cell_type": "code",
   "source": [
    "for price in prices:\n",
    "    if price > 10:\n",
    "        print(\"More than $10\")\n",
    "    elif price < 5:\n",
    "        print(\"Less than $5\")\n",
    "    else:\n",
    "        print(price)"
   ],
   "id": "59f21317e493f89a",
   "outputs": [
    {
     "name": "stdout",
     "output_type": "stream",
     "text": [
      "9.99\n",
      "8.99\n",
      "More than $10\n",
      "Less than $5\n",
      "5.75\n"
     ]
    }
   ],
   "execution_count": 5
  },
  {
   "metadata": {
    "ExecuteTime": {
     "end_time": "2025-01-22T20:19:51.074416Z",
     "start_time": "2025-01-22T20:19:51.069630Z"
    }
   },
   "cell_type": "code",
   "source": [
    "username = \"george_dc\"\n",
    "for char in username:\n",
    "    print(char)"
   ],
   "id": "74348d24229519f1",
   "outputs": [
    {
     "name": "stdout",
     "output_type": "stream",
     "text": [
      "g\n",
      "e\n",
      "o\n",
      "r\n",
      "g\n",
      "e\n",
      "_\n",
      "d\n",
      "c\n"
     ]
    }
   ],
   "execution_count": 6
  },
  {
   "metadata": {
    "ExecuteTime": {
     "end_time": "2025-01-22T20:21:02.746880Z",
     "start_time": "2025-01-22T20:21:02.739702Z"
    }
   },
   "cell_type": "code",
   "source": [
    "product_dict = {\n",
    "    \"AG32\": 87.99,\n",
    "    \"HT91\": 21.50,\n",
    "    \"PL65\": 43.75,\n",
    "    \"OS31\": 19.99,\n",
    "    \"KB07\": 62.95,\n",
    "    \"TR48\": 98.0\n",
    "}\n",
    "product_dict"
   ],
   "id": "e117022d73752bb5",
   "outputs": [
    {
     "data": {
      "text/plain": [
       "{'AG32': 87.99,\n",
       " 'HT91': 21.5,\n",
       " 'PL65': 43.75,\n",
       " 'OS31': 19.99,\n",
       " 'KB07': 62.95,\n",
       " 'TR48': 98.0}"
      ]
     },
     "execution_count": 8,
     "metadata": {},
     "output_type": "execute_result"
    }
   ],
   "execution_count": 8
  },
  {
   "metadata": {
    "ExecuteTime": {
     "end_time": "2025-01-22T20:21:21.108191Z",
     "start_time": "2025-01-22T20:21:21.102783Z"
    }
   },
   "cell_type": "code",
   "source": [
    "for key, val in product_dict.items():\n",
    "    print(key, val)"
   ],
   "id": "c704a0f65977681b",
   "outputs": [
    {
     "name": "stdout",
     "output_type": "stream",
     "text": [
      "AG32 87.99\n",
      "HT91 21.5\n",
      "PL65 43.75\n",
      "OS31 19.99\n",
      "KB07 62.95\n",
      "TR48 98.0\n"
     ]
    }
   ],
   "execution_count": 9
  },
  {
   "metadata": {
    "ExecuteTime": {
     "end_time": "2025-01-22T20:21:47.492153Z",
     "start_time": "2025-01-22T20:21:47.489011Z"
    }
   },
   "cell_type": "code",
   "source": [
    "for key in product_dict.keys():\n",
    "    print(key)"
   ],
   "id": "84db8c2dee8471ef",
   "outputs": [
    {
     "name": "stdout",
     "output_type": "stream",
     "text": [
      "AG32\n",
      "HT91\n",
      "PL65\n",
      "OS31\n",
      "KB07\n",
      "TR48\n"
     ]
    }
   ],
   "execution_count": 10
  },
  {
   "metadata": {
    "ExecuteTime": {
     "end_time": "2025-01-22T20:21:56.395960Z",
     "start_time": "2025-01-22T20:21:56.390795Z"
    }
   },
   "cell_type": "code",
   "source": [
    "for val in product_dict.values():\n",
    "    print(val)"
   ],
   "id": "e19a2b85c9b29081",
   "outputs": [
    {
     "name": "stdout",
     "output_type": "stream",
     "text": [
      "87.99\n",
      "21.5\n",
      "43.75\n",
      "19.99\n",
      "62.95\n",
      "98.0\n"
     ]
    }
   ],
   "execution_count": 11
  },
  {
   "metadata": {
    "ExecuteTime": {
     "end_time": "2025-01-22T20:23:01.855419Z",
     "start_time": "2025-01-22T20:23:01.840465Z"
    }
   },
   "cell_type": "code",
   "source": [
    "# range(start, end + 1)\n",
    "for i in range(1, 6):\n",
    "    print(i)"
   ],
   "id": "9e260337c6451540",
   "outputs": [
    {
     "name": "stdout",
     "output_type": "stream",
     "text": [
      "1\n",
      "2\n",
      "3\n",
      "4\n",
      "5\n"
     ]
    }
   ],
   "execution_count": 12
  },
  {
   "metadata": {
    "ExecuteTime": {
     "end_time": "2025-01-22T20:24:42.145381Z",
     "start_time": "2025-01-22T20:24:42.117508Z"
    }
   },
   "cell_type": "code",
   "source": [
    "# No visits yet\n",
    "visits = 0\n",
    "for i in range(1, 11):\n",
    "    visits += 1\n",
    "    print(visits)"
   ],
   "id": "246a06f118bad02d",
   "outputs": [
    {
     "name": "stdout",
     "output_type": "stream",
     "text": [
      "1\n",
      "2\n",
      "3\n",
      "4\n",
      "5\n",
      "6\n",
      "7\n",
      "8\n",
      "9\n",
      "10\n"
     ]
    }
   ],
   "execution_count": 13
  },
  {
   "metadata": {},
   "cell_type": "code",
   "outputs": [],
   "execution_count": null,
   "source": "",
   "id": "36b9becd5cea9fbf"
  }
 ],
 "metadata": {
  "kernelspec": {
   "name": "python3",
   "language": "python",
   "display_name": "Python 3 (ipykernel)"
  }
 },
 "nbformat": 5,
 "nbformat_minor": 9
}
